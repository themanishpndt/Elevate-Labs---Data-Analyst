{
 "cells": [
  {
   "cell_type": "markdown",
   "id": "8329e380",
   "metadata": {},
   "source": [
    "# Task 1 - Data Cleaning Deep Dive\n",
    "This notebook demonstrates the cleaning steps used in the repo."
   ]
  },
  {
   "cell_type": "code",
   "execution_count": null,
   "id": "4f636984",
   "metadata": {},
   "outputs": [],
   "source": [
    "import pandas as pd\n",
    "pd.set_option('display.max_columns', None)\n",
    "raw = pd.read_csv('raw_dataset.csv')\n",
    "raw.head()"
   ]
  },
  {
   "cell_type": "markdown",
   "id": "2e678dc0",
   "metadata": {},
   "source": [
    "## Profiling"
   ]
  },
  {
   "cell_type": "code",
   "execution_count": null,
   "id": "c8d5325b",
   "metadata": {},
   "outputs": [],
   "source": [
    "print('Missing values:\\n', raw.isnull().sum())\n",
    "print('\\nDuplicates:', raw.duplicated().sum())"
   ]
  },
  {
   "cell_type": "markdown",
   "id": "5bf6c4fd",
   "metadata": {},
   "source": [
    "Run `task1_cleaning.py` to reproduce cleaned_dataset.csv. Visuals saved under images/."
   ]
  }
 ],
 "metadata": {},
 "nbformat": 4,
 "nbformat_minor": 5
}
